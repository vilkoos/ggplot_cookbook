{
 "cells": [
  {
   "cell_type": "markdown",
   "metadata": {},
   "source": [
    "# ggplot cookbook"
   ]
  },
  {
   "cell_type": "markdown",
   "metadata": {},
   "source": [
    "- ============ the basics ========================\n",
    "- 101 - [the basics](101_ggplot_the_basics.ipynb) specify the data-layer with ggplot() and one or more visualization layers with geoms \n",
    "- 102 - [short forms](102_simple_syntax_forms.ipynb) make plots with less typing  \n",
    "-   \n",
    "- ============ geom's ============================   \n",
    "- 210 - how to use [geom_point](210_geom_point.ipynb) to make a dotplot (scatter plot)\n",
    "- 211 - how to use [geom_jitter](211_geom_jitter.ipynb) to make a jitter plot\n",
    "- \n",
    "- 220 - how to use [geom_line](220_geom_line.ipynb) to make a line plot\n",
    "- 221 - how to use [geom_hline](221_geom_xline.ipynb) to add a horizontal line\n",
    "- 221 - how to use [geom_vline](221_geom_xline.ipynb) to add a vertical line\n",
    "- 221 - how to use [geom_abline](221_geom_xline.ipynb) to add an abline (i.e. any straight line)\n",
    "- 221 - how to add a linear [trendline](221_geom_xline.ipynb) to a plot \n",
    "- 222 - how to use [geom_smooth](222_geom_smooth.ipynb) to make smooth lines\n",
    "- \n",
    "- 230 - how to use [geom_bar](230_geom_bar.ipynb) to make a barplot\n",
    "- 231 - how to use [geom_histogram](231_geom_histogram.ipynb) to make a histogram\n",
    "- 232 - how to use [geom_density](232_geom_density.ipynb) to make a density plot\n",
    "- 233 - how to use [geom_ribbon](233_geom_ribbon.ipynb) to make ribbon and area plots\n",
    "- \n",
    "- 240 - how to use [geom_boxplot](240_geom_boxplot.ipynb) to make boxplots\n",
    "- 241 - how to use [geom_violin](241_geom_violin.ipynb) to make violin plots\n",
    "-  \n",
    "- ============ theory ============================\n",
    "- 900 - the underlying theory (and explanation of vocab) \n",
    "- 910 - relevant visual perception theory\n",
    "- 920 - explanatory V. exploratory visualization\n",
    "- \n",
    "- ============ annotate a plot ===================\n",
    "- 300 - how to use [ggtitle](300_annotate_plot.ipynb) to add a title to a plot.\n",
    "- 300 - how to use [xlab and ylab](300_annotate_plot.ipynb) to customize the x or y label of a plot.\n",
    "- 310 - how to use [geom_text](310_geom_text.ipynb) to add text to the plot grid.\n",
    "- 310 - how to use [geom_text](310_geom_text.ipynb) to add a label to each plotted point.\n",
    "-  \n",
    "- ============ scales ===========================\n",
    "- 400 - how to use [xlim and ylim](400_xlim_ylim.ipynb) to set the upper and lower limits of a scale.\n",
    "- 410 - how to use [scale_x/y_continuous](410_scale_y_continuous.ipynb) to customize the x or y scale.\n",
    "- 420 - how to use [scale_x/y_log10](420_scale_xy_log.ipynb) to produce logarithmic scales. \n",
    "- 430 - how to use [scale_x/y_reverse](430_scale_xy_reverse.ipynb) to reverse scales.\n",
    "-  \n",
    "- 440 - how to use [scale_x/y_date](440_scale_xy_date.ipynb) to format scales that display dates\n",
    "-  \n",
    "- 450 - how to use [scale_color_brewer](450_scale_color_brewer.ipynb) to adjust discrete color scales.\n",
    "- 460 - how to use [scale_color_gradient](460_scale_color_gradient.ipynb) to adjust continuous color scales.\n",
    "-  \n",
    "- =========== coordinates ==========================\n",
    "- 500 - how to use [coord_flip](500_coord_flip.ipynb) to flip the x and y-axis.\n",
    "- 510 - how to use [coord_polar](510_coord_polar.ipynb) to use polar coordinates.\n",
    "- 510 - how to use [coord_polar](510_coord_polar.ipynb) to make a pie chart.\n",
    "-  \n",
    "- =========== stats ================================\n",
    "- 270 - how to use [stat_smooth](270_stat_smooth.ipynb) to caculate a smooth trendline\n",
    "-  \n",
    "- =========== facets ===============================\n",
    "- 600 - how to use [facet_wrap](600_facet_wrap.ipynb) to create small multiples along one dimension\n",
    "- 610 - how to use [facet_grid](610_facet_grid.ipynb) to create small multiples along two dimension\n",
    "-  \n",
    "- =========== theme's ==============================\n",
    "- 650 - how to use [theme's](650_theme.ipynb) to change the appearance of plot's\n",
    "-  \n",
    "- =========== resize and save figures ==============\n",
    "- 700 - how to use [save()](700_save.ipynb) to save ggplot figures to file\n",
    "- 710 - how to use [draw()](710_draw.ipynb) to convert the matplotlib format\n",
    "- 710 - how to [resize](710_draw.ipynb) figures in your notebook\n",
    "- 710 - how to [save](710_draw.ipynb) matplotlib figures to file\n",
    "-\n",
    "- =========== ggplot demo ==========================\n",
    "- 610 - [example](610_facet_grid.ipynb) study in which ggplot is practically applied.\n",
    "- \n"
   ]
  },
  {
   "cell_type": "code",
   "execution_count": null,
   "metadata": {
    "collapsed": true
   },
   "outputs": [],
   "source": []
  }
 ],
 "metadata": {
  "anaconda-cloud": {},
  "kernelspec": {
   "display_name": "Python 3",
   "language": "python",
   "name": "python3"
  },
  "language_info": {
   "codemirror_mode": {
    "name": "ipython",
    "version": 3
   },
   "file_extension": ".py",
   "mimetype": "text/x-python",
   "name": "python",
   "nbconvert_exporter": "python",
   "pygments_lexer": "ipython3",
   "version": "3.6.0"
  }
 },
 "nbformat": 4,
 "nbformat_minor": 1
}
