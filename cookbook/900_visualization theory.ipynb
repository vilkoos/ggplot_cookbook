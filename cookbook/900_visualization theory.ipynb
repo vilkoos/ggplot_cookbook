{
 "cells": [
  {
   "cell_type": "markdown",
   "metadata": {},
   "source": [
    "# 900 - Visualization theory\n",
    "\n",
    "The last 30 or so years there has been done a lot of useful research into visualizations.\n",
    "\n",
    "- perception research into how easy people pick up patterns in different types of visualizations.\n",
    "- grammar of graphics research into the possible elements of plots and how to combine these elements into an effective plot.\n",
    "\n",
    "Jake VanderPlas has summarized this theory in his PyCon 2019 presentation: How to Think about Data Visualization.   \n",
    "The presentation is only 30 minutes long and very accessible.  \n",
    "All I have to say about the subject is mentioned (or at least touched upon) here.  \n",
    "So watch the YouTube video: Jake VanderPlas - [How to Think about Data Visualization - PyCon 2019](https://www.youtube.com/watch?v=vTingdk_pVM)\n",
    "\n",
    "\n",
    "![How to Think about Data Visualization](./art/how_to_think_about_data_viz.jpg)\n"
   ]
  },
  {
   "cell_type": "code",
   "execution_count": null,
   "metadata": {
    "collapsed": true
   },
   "outputs": [],
   "source": []
  }
 ],
 "metadata": {
  "kernelspec": {
   "display_name": "Python 3",
   "language": "python",
   "name": "python3"
  },
  "language_info": {
   "codemirror_mode": {
    "name": "ipython",
    "version": 3
   },
   "file_extension": ".py",
   "mimetype": "text/x-python",
   "name": "python",
   "nbconvert_exporter": "python",
   "pygments_lexer": "ipython3",
   "version": "3.6.0"
  }
 },
 "nbformat": 4,
 "nbformat_minor": 2
}
