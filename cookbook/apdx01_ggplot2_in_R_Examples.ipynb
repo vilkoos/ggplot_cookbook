{
 "cells": [
  {
   "cell_type": "markdown",
   "metadata": {},
   "source": [
    "# ggplot in R\n",
    "\n",
    "- [cheat sheet](https://www.rstudio.com/wp-content/uploads/2015/03/ggplot2-cheatsheet.pdf)\n",
    "- [examples/gallery](http://www.r-graph-gallery.com/portfolio/ggplot2-package/)\n",
    "\n",
    "\n",
    "# NOTE code cells contain R-code not iPython"
   ]
  },
  {
   "cell_type": "markdown",
   "metadata": {},
   "source": [
    "## 1 - get the data \n",
    "\n",
    "Read the data from dia.csv and have a look"
   ]
  },
  {
   "cell_type": "code",
   "execution_count": 1,
   "metadata": {
    "collapsed": true
   },
   "outputs": [],
   "source": [
    "dia <- read.csv('./dat/dia.csv')"
   ]
  },
  {
   "cell_type": "code",
   "execution_count": 2,
   "metadata": {},
   "outputs": [
    {
     "name": "stdout",
     "output_type": "stream",
     "text": [
      "'data.frame':\t500 obs. of  4 variables:\n",
      " $ carat: num  0.71 1.55 0.51 1.01 0.47 0.3 0.8 0.31 0.8 0.54 ...\n",
      " $ cut  : Factor w/ 5 levels \"Fair\",\"Good\",..: 3 4 2 3 3 4 2 5 3 3 ...\n",
      " $ color: Factor w/ 7 levels \"D\",\"E\",\"F\",\"G\",..: 4 4 2 1 3 3 3 4 5 5 ...\n",
      " $ price: int  2950 10499 1170 10797 1226 737 3477 625 3972 1774 ...\n"
     ]
    }
   ],
   "source": [
    "str(dia)"
   ]
  },
  {
   "cell_type": "code",
   "execution_count": 3,
   "metadata": {},
   "outputs": [
    {
     "data": {
      "text/html": [
       "<table>\n",
       "<thead><tr><th scope=col>carat</th><th scope=col>cut</th><th scope=col>color</th><th scope=col>price</th></tr></thead>\n",
       "<tbody>\n",
       "\t<tr><td>0.71   </td><td>Ideal  </td><td>G      </td><td> 2950  </td></tr>\n",
       "\t<tr><td>1.55   </td><td>Premium</td><td>G      </td><td>10499  </td></tr>\n",
       "\t<tr><td>0.51   </td><td>Good   </td><td>E      </td><td> 1170  </td></tr>\n",
       "\t<tr><td>1.01   </td><td>Ideal  </td><td>D      </td><td>10797  </td></tr>\n",
       "\t<tr><td>0.47   </td><td>Ideal  </td><td>F      </td><td> 1226  </td></tr>\n",
       "\t<tr><td>0.30   </td><td>Premium</td><td>F      </td><td>  737  </td></tr>\n",
       "</tbody>\n",
       "</table>\n"
      ],
      "text/latex": [
       "\\begin{tabular}{r|llll}\n",
       " carat & cut & color & price\\\\\n",
       "\\hline\n",
       "\t 0.71    & Ideal   & G       &  2950  \\\\\n",
       "\t 1.55    & Premium & G       & 10499  \\\\\n",
       "\t 0.51    & Good    & E       &  1170  \\\\\n",
       "\t 1.01    & Ideal   & D       & 10797  \\\\\n",
       "\t 0.47    & Ideal   & F       &  1226  \\\\\n",
       "\t 0.30    & Premium & F       &   737  \\\\\n",
       "\\end{tabular}\n"
      ],
      "text/markdown": [
       "\n",
       "carat | cut | color | price | \n",
       "|---|---|---|---|---|---|\n",
       "| 0.71    | Ideal   | G       |  2950   | \n",
       "| 1.55    | Premium | G       | 10499   | \n",
       "| 0.51    | Good    | E       |  1170   | \n",
       "| 1.01    | Ideal   | D       | 10797   | \n",
       "| 0.47    | Ideal   | F       |  1226   | \n",
       "| 0.30    | Premium | F       |   737   | \n",
       "\n",
       "\n"
      ],
      "text/plain": [
       "  carat cut     color price\n",
       "1 0.71  Ideal   G      2950\n",
       "2 1.55  Premium G     10499\n",
       "3 0.51  Good    E      1170\n",
       "4 1.01  Ideal   D     10797\n",
       "5 0.47  Ideal   F      1226\n",
       "6 0.30  Premium F       737"
      ]
     },
     "metadata": {},
     "output_type": "display_data"
    }
   ],
   "source": [
    "head(dia)"
   ]
  },
  {
   "cell_type": "markdown",
   "metadata": {},
   "source": [
    "# 2 -  import the ggplot2 library"
   ]
  },
  {
   "cell_type": "code",
   "execution_count": 4,
   "metadata": {
    "collapsed": true
   },
   "outputs": [],
   "source": [
    "library(ggplot2)"
   ]
  },
  {
   "cell_type": "markdown",
   "metadata": {},
   "source": [
    "# 3 - some examples"
   ]
  },
  {
   "cell_type": "code",
   "execution_count": 16,
   "metadata": {},
   "outputs": [
    {
     "data": {
      "image/png": "[encoded data removed]",
      "text/plain": [
       "plot without title"
      ]
     },
     "metadata": {},
     "output_type": "display_data"
    }
   ],
   "source": [
    "options(repr.plot.width  = 5, repr.plot.height = 4)\n",
    "fig = ggplot(aes(x=carat,y=price),data=dia) \n",
    "fig = fig + geom_point(color='blue')\n",
    "print(fig)"
   ]
  },
  {
   "cell_type": "code",
   "execution_count": 17,
   "metadata": {},
   "outputs": [
    {
     "data": {
      "image/png": "[encoded data removed]",
      "text/plain": [
       "plot without title"
      ]
     },
     "metadata": {},
     "output_type": "display_data"
    }
   ],
   "source": [
    "fig = ggplot(aes(x=carat,y=price,color=color,shape=cut),data=dia) \n",
    "fig = fig + geom_point()\n",
    "print(fig)"
   ]
  },
  {
   "cell_type": "code",
   "execution_count": 18,
   "metadata": {},
   "outputs": [
    {
     "data": {},
     "metadata": {},
     "output_type": "display_data"
    },
    {
     "data": {
      "image/png": "[encoded data removed]",
      "text/plain": [
       "plot without title"
      ]
     },
     "metadata": {},
     "output_type": "display_data"
    }
   ],
   "source": [
    "fig = ggplot(aes(x=cut),data=dia) \n",
    "fig = fig + geom_bar(color='green', fill='white')\n",
    "fig"
   ]
  },
  {
   "cell_type": "code",
   "execution_count": 19,
   "metadata": {},
   "outputs": [
    {
     "data": {},
     "metadata": {},
     "output_type": "display_data"
    },
    {
     "data": {
      "image/png": "[encoded data removed]",
      "text/plain": [
       "plot without title"
      ]
     },
     "metadata": {},
     "output_type": "display_data"
    }
   ],
   "source": [
    "fig = ggplot(aes(x=price),data=dia) \n",
    "fig = fig + geom_histogram(color='yellow',fill='red',bins = 10,)\n",
    "fig"
   ]
  },
  {
   "cell_type": "code",
   "execution_count": 20,
   "metadata": {},
   "outputs": [
    {
     "data": {},
     "metadata": {},
     "output_type": "display_data"
    },
    {
     "data": {
      "image/png": "[encoded data removed]",
      "text/plain": [
       "plot without title"
      ]
     },
     "metadata": {},
     "output_type": "display_data"
    }
   ],
   "source": [
    "fig = ggplot(aes(x=cut,y=price),data=dia) \n",
    "fig = fig + geom_boxplot(color='blue', fill='yellow')\n",
    "fig"
   ]
  },
  {
   "cell_type": "markdown",
   "metadata": {
    "collapsed": true
   },
   "source": [
    "# 4 - the weather events example"
   ]
  },
  {
   "cell_type": "code",
   "execution_count": 21,
   "metadata": {
    "collapsed": true
   },
   "outputs": [],
   "source": [
    "dat <- read.csv('./dat/analytic_data.csv')"
   ]
  },
  {
   "cell_type": "code",
   "execution_count": 22,
   "metadata": {
    "collapsed": true
   },
   "outputs": [],
   "source": [
    "library(ggplot2)\n",
    "library(sqldf)"
   ]
  },
  {
   "cell_type": "code",
   "execution_count": 23,
   "metadata": {
    "collapsed": true
   },
   "outputs": [],
   "source": [
    "injur <- sqldf(\" \n",
    "   SELECT event, decade, SUM(injur) AS injuries\n",
    "   FROM dat\n",
    "   GROUP BY event, decade\n",
    "   ORDER BY event, decade\n",
    "\")"
   ]
  },
  {
   "cell_type": "code",
   "execution_count": 26,
   "metadata": {},
   "outputs": [
    {
     "data": {},
     "metadata": {},
     "output_type": "display_data"
    },
    {
     "data": {
      "image/png": "[encoded data removed]",
      "text/plain": [
       "plot without title"
      ]
     },
     "metadata": {},
     "output_type": "display_data"
    }
   ],
   "source": [
    "ggplot(injur, aes(x=decade, y=injuries, colour=event, group=event)) +\n",
    "              geom_line() +\n",
    "              geom_point(size=4,alpha=0.5) +\n",
    "              ggtitle(\"Figure 2: changes in injuries by decade\") +\n",
    "              scale_x_continuous(breaks=c(199,200), limits=c(198.5, 200.5))"
   ]
  },
  {
   "cell_type": "code",
   "execution_count": null,
   "metadata": {
    "collapsed": true
   },
   "outputs": [],
   "source": []
  }
 ],
 "metadata": {
  "kernelspec": {
   "display_name": "R",
   "language": "R",
   "name": "ir"
  },
  "language_info": {
   "codemirror_mode": "r",
   "file_extension": ".r",
   "mimetype": "text/x-r-source",
   "name": "R",
   "pygments_lexer": "r",
   "version": "3.3.2"
  }
 },
 "nbformat": 4,
 "nbformat_minor": 2
}
