{
 "cells": [
  {
   "cell_type": "markdown",
   "metadata": {},
   "source": [
    "# Replication of R results in Python\n",
    "\n",
    "ggplot in Python works much the same as ggplot2 in R.  \n",
    "So if you can do it in Python, you also can do it in R, and vice versa.  \n",
    "\n",
    "To show this we will reproduce the R results with Python, so you can judge for yourself.  \n",
    "\n",
    "Not only is the ggplot code the same. As you will see the SQL-code is even more equal."
   ]
  },
  {
   "cell_type": "markdown",
   "metadata": {},
   "source": [
    "# 0 -  setup Python"
   ]
  },
  {
   "cell_type": "code",
   "execution_count": 1,
   "metadata": {
    "collapsed": true
   },
   "outputs": [],
   "source": [
    "import warnings\n",
    "warnings.filterwarnings('ignore')\n",
    "import pandas as pd\n",
    "# if not installed, install pandasql (uncomment line below)\n",
    "#!pip install pandasql\n",
    "from pandasql import sqldf\n",
    "from plotnine import *"
   ]
  },
  {
   "cell_type": "markdown",
   "metadata": {},
   "source": [
    "# 1 - get the data"
   ]
  },
  {
   "cell_type": "code",
   "execution_count": 2,
   "metadata": {
    "collapsed": true
   },
   "outputs": [],
   "source": [
    "dat = pd.read_csv('./dat/analytic_data.csv')"
   ]
  },
  {
   "cell_type": "code",
   "execution_count": 3,
   "metadata": {},
   "outputs": [
    {
     "data": {
      "text/html": [
       "<div>\n",
       "<style>\n",
       "    .dataframe thead tr:only-child th {\n",
       "        text-align: right;\n",
       "    }\n",
       "\n",
       "    .dataframe thead th {\n",
       "        text-align: left;\n",
       "    }\n",
       "\n",
       "    .dataframe tbody tr th {\n",
       "        vertical-align: top;\n",
       "    }\n",
       "</style>\n",
       "<table border=\"1\" class=\"dataframe\">\n",
       "  <thead>\n",
       "    <tr style=\"text-align: right;\">\n",
       "      <th></th>\n",
       "      <th>decade</th>\n",
       "      <th>event</th>\n",
       "      <th>fatal</th>\n",
       "      <th>injur</th>\n",
       "      <th>damage</th>\n",
       "    </tr>\n",
       "  </thead>\n",
       "  <tbody>\n",
       "    <tr>\n",
       "      <th>0</th>\n",
       "      <td>199</td>\n",
       "      <td>TORNADO</td>\n",
       "      <td>0</td>\n",
       "      <td>28</td>\n",
       "      <td>1917</td>\n",
       "    </tr>\n",
       "    <tr>\n",
       "      <th>1</th>\n",
       "      <td>199</td>\n",
       "      <td>TORNADO</td>\n",
       "      <td>0</td>\n",
       "      <td>0</td>\n",
       "      <td>19</td>\n",
       "    </tr>\n",
       "    <tr>\n",
       "      <th>2</th>\n",
       "      <td>199</td>\n",
       "      <td>TORNADO</td>\n",
       "      <td>0</td>\n",
       "      <td>0</td>\n",
       "      <td>19</td>\n",
       "    </tr>\n",
       "    <tr>\n",
       "      <th>3</th>\n",
       "      <td>199</td>\n",
       "      <td>TORNADO</td>\n",
       "      <td>0</td>\n",
       "      <td>3</td>\n",
       "      <td>1917</td>\n",
       "    </tr>\n",
       "    <tr>\n",
       "      <th>4</th>\n",
       "      <td>199</td>\n",
       "      <td>TORNADO</td>\n",
       "      <td>0</td>\n",
       "      <td>2</td>\n",
       "      <td>1917</td>\n",
       "    </tr>\n",
       "  </tbody>\n",
       "</table>\n",
       "</div>"
      ],
      "text/plain": [
       "   decade    event  fatal  injur  damage\n",
       "0     199  TORNADO      0     28    1917\n",
       "1     199  TORNADO      0      0      19\n",
       "2     199  TORNADO      0      0      19\n",
       "3     199  TORNADO      0      3    1917\n",
       "4     199  TORNADO      0      2    1917"
      ]
     },
     "execution_count": 3,
     "metadata": {},
     "output_type": "execute_result"
    }
   ],
   "source": [
    "dat.head()"
   ]
  },
  {
   "cell_type": "code",
   "execution_count": 4,
   "metadata": {},
   "outputs": [
    {
     "data": {
      "text/html": [
       "<div>\n",
       "<style>\n",
       "    .dataframe thead tr:only-child th {\n",
       "        text-align: right;\n",
       "    }\n",
       "\n",
       "    .dataframe thead th {\n",
       "        text-align: left;\n",
       "    }\n",
       "\n",
       "    .dataframe tbody tr th {\n",
       "        vertical-align: top;\n",
       "    }\n",
       "</style>\n",
       "<table border=\"1\" class=\"dataframe\">\n",
       "  <thead>\n",
       "    <tr style=\"text-align: right;\">\n",
       "      <th></th>\n",
       "      <th>event</th>\n",
       "      <th>decade</th>\n",
       "      <th>injuries</th>\n",
       "    </tr>\n",
       "  </thead>\n",
       "  <tbody>\n",
       "    <tr>\n",
       "      <th>0</th>\n",
       "      <td>COLD</td>\n",
       "      <td>199</td>\n",
       "      <td>4842</td>\n",
       "    </tr>\n",
       "    <tr>\n",
       "      <th>1</th>\n",
       "      <td>COLD</td>\n",
       "      <td>200</td>\n",
       "      <td>1423</td>\n",
       "    </tr>\n",
       "    <tr>\n",
       "      <th>2</th>\n",
       "      <td>FLOOD</td>\n",
       "      <td>199</td>\n",
       "      <td>7524</td>\n",
       "    </tr>\n",
       "    <tr>\n",
       "      <th>3</th>\n",
       "      <td>FLOOD</td>\n",
       "      <td>200</td>\n",
       "      <td>801</td>\n",
       "    </tr>\n",
       "    <tr>\n",
       "      <th>4</th>\n",
       "      <td>HEAT</td>\n",
       "      <td>199</td>\n",
       "      <td>4703</td>\n",
       "    </tr>\n",
       "    <tr>\n",
       "      <th>5</th>\n",
       "      <td>HEAT</td>\n",
       "      <td>200</td>\n",
       "      <td>5142</td>\n",
       "    </tr>\n",
       "    <tr>\n",
       "      <th>6</th>\n",
       "      <td>LIGHTNING</td>\n",
       "      <td>199</td>\n",
       "      <td>2238</td>\n",
       "    </tr>\n",
       "    <tr>\n",
       "      <th>7</th>\n",
       "      <td>LIGHTNING</td>\n",
       "      <td>200</td>\n",
       "      <td>2617</td>\n",
       "    </tr>\n",
       "    <tr>\n",
       "      <th>8</th>\n",
       "      <td>MISC</td>\n",
       "      <td>199</td>\n",
       "      <td>900</td>\n",
       "    </tr>\n",
       "    <tr>\n",
       "      <th>9</th>\n",
       "      <td>MISC</td>\n",
       "      <td>200</td>\n",
       "      <td>910</td>\n",
       "    </tr>\n",
       "    <tr>\n",
       "      <th>10</th>\n",
       "      <td>RAIN</td>\n",
       "      <td>199</td>\n",
       "      <td>138</td>\n",
       "    </tr>\n",
       "    <tr>\n",
       "      <th>11</th>\n",
       "      <td>RAIN</td>\n",
       "      <td>200</td>\n",
       "      <td>159</td>\n",
       "    </tr>\n",
       "    <tr>\n",
       "      <th>12</th>\n",
       "      <td>RIP CURRENT</td>\n",
       "      <td>199</td>\n",
       "      <td>146</td>\n",
       "    </tr>\n",
       "    <tr>\n",
       "      <th>13</th>\n",
       "      <td>RIP CURRENT</td>\n",
       "      <td>200</td>\n",
       "      <td>311</td>\n",
       "    </tr>\n",
       "    <tr>\n",
       "      <th>14</th>\n",
       "      <td>SLIDE</td>\n",
       "      <td>199</td>\n",
       "      <td>48</td>\n",
       "    </tr>\n",
       "    <tr>\n",
       "      <th>15</th>\n",
       "      <td>SLIDE</td>\n",
       "      <td>200</td>\n",
       "      <td>150</td>\n",
       "    </tr>\n",
       "    <tr>\n",
       "      <th>16</th>\n",
       "      <td>STORM</td>\n",
       "      <td>199</td>\n",
       "      <td>2121</td>\n",
       "    </tr>\n",
       "    <tr>\n",
       "      <th>17</th>\n",
       "      <td>STORM</td>\n",
       "      <td>200</td>\n",
       "      <td>3109</td>\n",
       "    </tr>\n",
       "    <tr>\n",
       "      <th>18</th>\n",
       "      <td>THUNDERSTORM</td>\n",
       "      <td>199</td>\n",
       "      <td>4384</td>\n",
       "    </tr>\n",
       "    <tr>\n",
       "      <th>19</th>\n",
       "      <td>THUNDERSTORM</td>\n",
       "      <td>200</td>\n",
       "      <td>2513</td>\n",
       "    </tr>\n",
       "    <tr>\n",
       "      <th>20</th>\n",
       "      <td>TORNADO</td>\n",
       "      <td>199</td>\n",
       "      <td>11522</td>\n",
       "    </tr>\n",
       "    <tr>\n",
       "      <th>21</th>\n",
       "      <td>TORNADO</td>\n",
       "      <td>200</td>\n",
       "      <td>8351</td>\n",
       "    </tr>\n",
       "  </tbody>\n",
       "</table>\n",
       "</div>"
      ],
      "text/plain": [
       "           event  decade  injuries\n",
       "0           COLD     199      4842\n",
       "1           COLD     200      1423\n",
       "2          FLOOD     199      7524\n",
       "3          FLOOD     200       801\n",
       "4           HEAT     199      4703\n",
       "5           HEAT     200      5142\n",
       "6      LIGHTNING     199      2238\n",
       "7      LIGHTNING     200      2617\n",
       "8           MISC     199       900\n",
       "9           MISC     200       910\n",
       "10          RAIN     199       138\n",
       "11          RAIN     200       159\n",
       "12   RIP CURRENT     199       146\n",
       "13   RIP CURRENT     200       311\n",
       "14         SLIDE     199        48\n",
       "15         SLIDE     200       150\n",
       "16         STORM     199      2121\n",
       "17         STORM     200      3109\n",
       "18  THUNDERSTORM     199      4384\n",
       "19  THUNDERSTORM     200      2513\n",
       "20       TORNADO     199     11522\n",
       "21       TORNADO     200      8351"
      ]
     },
     "execution_count": 4,
     "metadata": {},
     "output_type": "execute_result"
    }
   ],
   "source": [
    "# have a look at the data that will be plotted by ggplot\n",
    "sqldf(\"\"\"\n",
    "SELECT event, decade, SUM(injur) AS injuries\n",
    "FROM dat\n",
    "GROUP BY event, decade\n",
    "ORDER BY event, decade\n",
    "\"\"\")"
   ]
  },
  {
   "cell_type": "markdown",
   "metadata": {},
   "source": [
    "# 2 - compare R with Python \n",
    "\n",
    "## The R example to reproduce\n",
    "\n",
    "Here is the R code and result we want to reproduce in Python"
   ]
  },
  {
   "cell_type": "markdown",
   "metadata": {},
   "source": [
    "![r-code](./art/Rcode_sql_ggplot.jpg)"
   ]
  },
  {
   "cell_type": "markdown",
   "metadata": {},
   "source": [
    "## Reproduction of the R example using Python\n",
    "\n",
    "For [R-code and R-graph](http://rpubs.com/vilkoos/52188) click on link"
   ]
  },
  {
   "cell_type": "code",
   "execution_count": 5,
   "metadata": {
    "collapsed": true
   },
   "outputs": [],
   "source": [
    "injur = sqldf(\"\"\" \n",
    "   SELECT event, decade, SUM(injur) AS injuries\n",
    "   FROM dat\n",
    "   GROUP BY event, decade\n",
    "   ORDER BY event, decade\n",
    "\"\"\")"
   ]
  },
  {
   "cell_type": "code",
   "execution_count": 6,
   "metadata": {},
   "outputs": [
    {
     "data": {
      "image/png": "[encoded data removed]",
      "text/plain": [
       "<matplotlib.figure.Figure at 0x1532b7b8>"
      ]
     },
     "metadata": {},
     "output_type": "display_data"
    },
    {
     "data": {
      "text/plain": [
       "<ggplot: (-9223372036831513077)>"
      ]
     },
     "execution_count": 6,
     "metadata": {},
     "output_type": "execute_result"
    }
   ],
   "source": [
    "ggplot(injur, aes(x='decade', y='injuries', colour='event', group='event')) + \\\n",
    "              geom_line() + \\\n",
    "              geom_point(size=4) + \\\n",
    "              ggtitle(\"Figure 2: changes in injuries by decade\") + \\\n",
    "              scale_x_continuous(breaks=[199,200], limits=[198.5, 200.5])"
   ]
  },
  {
   "cell_type": "markdown",
   "metadata": {},
   "source": [
    "As you can see the sql is almost identical.  \n",
    "The ggplot codings are the same except some details ('' around column names and the \\ at the end of a line).  \n",
    "The produced plots are simular (but not identical).  "
   ]
  },
  {
   "cell_type": "markdown",
   "metadata": {
    "collapsed": true
   },
   "source": [
    "## reference\n",
    "\n",
    "[pandasql](http://blog.yhat.com/posts/pandasql-intro.html): Make python speak SQL"
   ]
  },
  {
   "cell_type": "code",
   "execution_count": null,
   "metadata": {
    "collapsed": true
   },
   "outputs": [],
   "source": []
  }
 ],
 "metadata": {
  "anaconda-cloud": {},
  "kernelspec": {
   "display_name": "Python 3",
   "language": "python",
   "name": "python3"
  },
  "language_info": {
   "codemirror_mode": {
    "name": "ipython",
    "version": 3
   },
   "file_extension": ".py",
   "mimetype": "text/x-python",
   "name": "python",
   "nbconvert_exporter": "python",
   "pygments_lexer": "ipython3",
   "version": "3.6.0"
  }
 },
 "nbformat": 4,
 "nbformat_minor": 1
}
